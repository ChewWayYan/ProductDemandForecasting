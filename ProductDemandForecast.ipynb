{
 "cells": [
  {
   "cell_type": "code",
   "execution_count": 1,
   "id": "9489f04f",
   "metadata": {
    "scrolled": true
   },
   "outputs": [
    {
     "name": "stdout",
     "output_type": "stream",
     "text": [
      "   Product_Code Warehouse Product_Category       Date Order_Demand\n",
      "0  Product_0993    Whse_J     Category_028  2012/7/27         100 \n",
      "1  Product_0979    Whse_J     Category_028  2012/1/19         500 \n",
      "2  Product_0979    Whse_J     Category_028   2012/2/3         500 \n",
      "3  Product_0979    Whse_J     Category_028   2012/2/9         500 \n",
      "4  Product_0979    Whse_J     Category_028   2012/3/2         500 \n",
      "\n",
      "Dimension of data (1048575, 5)\n"
     ]
    }
   ],
   "source": [
    "# Import libraries\n",
    "import pandas as pd\n",
    "import numpy as np\n",
    "import matplotlib.pyplot as plt\n",
    "from collections import Counter\n",
    "from datetime import datetime\n",
    "import math\n",
    "from sklearn.model_selection import train_test_split\n",
    "from sklearn.experimental import enable_hist_gradient_boosting\n",
    "from sklearn.ensemble import HistGradientBoostingRegressor\n",
    "from sklearn.svm import SVR\n",
    "from sklearn.neural_network import MLPRegressor\n",
    "from sklearn.metrics import mean_squared_error\n",
    "from sklearn.metrics import mean_absolute_percentage_error\n",
    "from sklearn.ensemble import AdaBoostRegressor\n",
    "\n",
    "# Ignore warning\n",
    "pd.options.mode.chained_assignment = None  # default='warn'\n",
    "\n",
    "# Import csv file\n",
    "demand_data = \"C:/Users/javin/Desktop/HPD.csv\"\n",
    "data = pd.read_csv(demand_data)\n",
    "df = pd.DataFrame(data)\n",
    "\n",
    "# Display data\n",
    "print(df.head(5))\n",
    "print('')\n",
    "print('Dimension of data', df.shape)"
   ]
  },
  {
   "cell_type": "code",
   "execution_count": 2,
   "id": "e31ca0ea",
   "metadata": {},
   "outputs": [
    {
     "name": "stdout",
     "output_type": "stream",
     "text": [
      "Product count = 2160\n",
      "\n",
      "Most frequent product: Product_1359\n",
      "Most frequent category: Category_019\n",
      "Dimension of Product_1359: (16936, 5)\n",
      "Dimension of Category_019: (481099, 5)\n"
     ]
    }
   ],
   "source": [
    "# Count number of products in total based on 'Product_Code'\n",
    "Counter(df['Product_Code']).keys()\n",
    "prod_count = Counter(df['Product_Code']).values()\n",
    "print(\"Product count =\", len(prod_count))\n",
    "print()\n",
    "\n",
    "# Most frequent items with dimensions\n",
    "print('Most frequent product:', df['Product_Code']. value_counts(). idxmax())\n",
    "print('Most frequent category:',df['Product_Category']. value_counts(). idxmax())\n",
    "\n",
    "P1359 = df[df.Product_Code.eq('Product_1359')]\n",
    "print('Dimension of Product_1359:', P1359.shape)\n",
    "C019 = df[df.Product_Category.eq('Category_019')]\n",
    "print('Dimension of Category_019:',C019.shape)"
   ]
  },
  {
   "cell_type": "code",
   "execution_count": 3,
   "id": "5015ae8b",
   "metadata": {
    "scrolled": true
   },
   "outputs": [
    {
     "name": "stdout",
     "output_type": "stream",
     "text": [
      "% of Data missing = 1.0718355863910547\n"
     ]
    }
   ],
   "source": [
    "#Determine rows with missing values\n",
    "missingcol = df.isna().sum()\n",
    "print(\"% of Data missing =\", missingcol.sum()/len(df)*100)"
   ]
  },
  {
   "cell_type": "code",
   "execution_count": 4,
   "id": "a6e3b6ca",
   "metadata": {},
   "outputs": [
    {
     "name": "stdout",
     "output_type": "stream",
     "text": [
      "Missing value? False\n",
      "\n"
     ]
    },
    {
     "name": "stderr",
     "output_type": "stream",
     "text": [
      "<ipython-input-4-d99b9647db82>:11: FutureWarning: The default value of regex will change from True to False in a future version. In addition, single character regular expressions will*not* be treated as literal strings when regex=True.\n",
      "  df['Order_Demand']=df['Order_Demand'].str.replace('(',\"\")\n",
      "<ipython-input-4-d99b9647db82>:12: FutureWarning: The default value of regex will change from True to False in a future version. In addition, single character regular expressions will*not* be treated as literal strings when regex=True.\n",
      "  df['Order_Demand']=df['Order_Demand'].str.replace(')',\"\")\n"
     ]
    },
    {
     "name": "stdout",
     "output_type": "stream",
     "text": [
      "After removed missing values and timestamp conversion:\n",
      "   Product_Code Warehouse Product_Category       Date  Order_Demand\n",
      "0  Product_0993    Whse_J     Category_028 2012-07-27           100\n",
      "1  Product_0979    Whse_J     Category_028 2012-01-19           500\n",
      "2  Product_0979    Whse_J     Category_028 2012-02-03           500\n",
      "3  Product_0979    Whse_J     Category_028 2012-02-09           500\n",
      "4  Product_0979    Whse_J     Category_028 2012-03-02           500\n",
      "\n",
      "(1037336, 5)\n"
     ]
    }
   ],
   "source": [
    "## Preprocess data\n",
    "# Remove row with missing values\n",
    "df.dropna(inplace=True)\n",
    "print('Missing value?', df.isnull().values.any())\n",
    "print('')\n",
    "\n",
    "# Convert 'Date' from string to timestamp\n",
    "df['Date'] = pd.to_datetime(df['Date'])\n",
    "\n",
    "# # Remove bracket in 'Order_Demand' column\n",
    "df['Order_Demand']=df['Order_Demand'].str.replace('(',\"\")\n",
    "df['Order_Demand']=df['Order_Demand'].str.replace(')',\"\")\n",
    "\n",
    "# # Convert 'Order_Demand' from string to integer data type\n",
    "df['Order_Demand']=df['Order_Demand'].astype(int)\n",
    "\n",
    "# Display data after removed missing values & timestamp conversion\n",
    "print('After removed missing values and timestamp conversion:')\n",
    "print(df.head(5))\n",
    "print('')\n",
    "print(df.shape)"
   ]
  },
  {
   "cell_type": "code",
   "execution_count": 5,
   "id": "fb43eb11",
   "metadata": {
    "scrolled": false
   },
   "outputs": [
    {
     "name": "stdout",
     "output_type": "stream",
     "text": [
      "        Product_Code Warehouse Product_Category       Date  Order_Demand\n",
      "44799   Product_0965    Whse_A     Category_006 2011-01-08             2\n",
      "72252   Product_1724    Whse_A     Category_003 2011-05-31           108\n",
      "8431    Product_1521    Whse_S     Category_019 2011-06-24         85000\n",
      "8432    Product_1521    Whse_S     Category_019 2011-06-24          7000\n",
      "72669   Product_1507    Whse_C     Category_019 2011-09-02          1250\n",
      "17249   Product_0608    Whse_C     Category_001 2011-09-27             5\n",
      "17250   Product_1933    Whse_C     Category_001 2011-09-27            23\n",
      "74615   Product_0875    Whse_C     Category_023 2011-09-30          5450\n",
      "131426  Product_0125    Whse_S     Category_011 2011-10-20             2\n",
      "131429  Product_0412    Whse_S     Category_007 2011-10-20             2\n"
     ]
    }
   ],
   "source": [
    "# Sort date\n",
    "df2 = df.sort_values('Date')\n",
    "print(df2.head(10))"
   ]
  },
  {
   "cell_type": "code",
   "execution_count": 6,
   "id": "5e598c00",
   "metadata": {
    "scrolled": false
   },
   "outputs": [
    {
     "name": "stdout",
     "output_type": "stream",
     "text": [
      "                       Order_Demand\n",
      "Date       Date                    \n",
      "2011-01-08 2011-01-09             2\n",
      "2011-05-31 2011-06-05           108\n",
      "2011-06-24 2011-06-26         92000\n",
      "2011-09-02 2011-09-04          1250\n",
      "2011-09-27 2011-10-02            28\n",
      "(1729, 1)\n"
     ]
    }
   ],
   "source": [
    "# Data downsampling to weekly record (Phase 1: Change the date to weekly record which ends on Sunday of each week)\n",
    "weekly_demand_data = df2.groupby('Date').resample('W', label='right', closed='right', on='Date').sum()\n",
    "print(weekly_demand_data.head(5))\n",
    "print(weekly_demand_data.shape) # The date was not included in the dataframe\n",
    "\n",
    "# Data downsampling to weekly record (Phase 2 - Save to xlsx file as the date cannot be retained)\n",
    "writer = pd.ExcelWriter('Weekly_Demand.xlsx')\n",
    "weekly_demand_data.to_excel(writer)\n",
    "writer.save()"
   ]
  },
  {
   "cell_type": "code",
   "execution_count": 7,
   "id": "0b8cb690",
   "metadata": {
    "scrolled": true
   },
   "outputs": [
    {
     "name": "stdout",
     "output_type": "stream",
     "text": [
      "        Date  Order_Demand\n",
      "0 2011-01-09             2\n",
      "1 2011-06-05           108\n",
      "2 2011-06-26         92000\n",
      "3 2011-09-04          1250\n",
      "4 2011-10-02            28\n",
      "(1729, 2)\n"
     ]
    }
   ],
   "source": [
    "# Data downsampling to weekly record (Phase 3 - Read xlsx file to retain the date)\n",
    "WD = pd.read_excel('Weekly_Demand.xlsx')\n",
    "df3 = pd.DataFrame(WD)\n",
    "\n",
    "df3.drop(df3.columns[0], axis=1, inplace=True)\n",
    "df4 = df3.rename(columns={'Date.1': 'Date'})\n",
    "print(df4.head(5))\n",
    "print(df4.shape)"
   ]
  },
  {
   "cell_type": "code",
   "execution_count": 8,
   "id": "051a127a",
   "metadata": {},
   "outputs": [
    {
     "data": {
      "image/png": "[encoded data removed]",
      "text/plain": [
       "<Figure size 432x288 with 1 Axes>"
      ]
     },
     "metadata": {
      "needs_background": "light"
     },
     "output_type": "display_data"
    }
   ],
   "source": [
    "df_daily = df[['Date', 'Order_Demand']]\n",
    "df_daily1 = df_daily.sort_values('Date')\n",
    "df_daily1['Daily_Demand'] = df_daily1.groupby(['Date'])['Order_Demand'].transform('sum')\n",
    "df_daily1.drop(df_daily1.columns[1], axis=1, inplace=True)\n",
    "df_daily2 = df_daily1.drop_duplicates(subset=['Date'])\n",
    "\n",
    "# with pd.option_context('display.max_rows', None,\n",
    "#                        'display.max_columns', None,\n",
    "#                        'display.precision', 3,\n",
    "#                        ):\n",
    "#     print(df_daily2)\n",
    "\n",
    "dailydata = pd.ExcelWriter('Graph_of_Daily_Data.xlsx')\n",
    "df_daily2.to_excel(dailydata)\n",
    "dailydata.save()\n",
    "    \n",
    "# Plot graph for daily demand (Total)\n",
    "X_graph = df_daily2['Date']\n",
    "y_graph = df_daily2['Daily_Demand']\n",
    "plt.plot(X_graph, y_graph)\n",
    "plt.title('Daily Demand vs Date')\n",
    "plt.xlabel('Date')\n",
    "plt.ylabel('Daily Demand')\n",
    "plt.show()\n"
   ]
  },
  {
   "cell_type": "code",
   "execution_count": 9,
   "id": "4585a0d5",
   "metadata": {
    "scrolled": false
   },
   "outputs": [
    {
     "name": "stdout",
     "output_type": "stream",
     "text": [
      "           Date  Weekly_Demand\n",
      "0    2011-01-09              2\n",
      "1    2011-06-05            108\n",
      "2    2011-06-26          92000\n",
      "3    2011-09-04           1250\n",
      "4    2011-10-02           5478\n",
      "...         ...            ...\n",
      "1706 2016-12-18       19919049\n",
      "1712 2016-12-25       17479550\n",
      "1718 2017-01-01        9276335\n",
      "1723 2017-01-08         290789\n",
      "1728 2017-01-15           4178\n",
      "\n",
      "[277 rows x 2 columns]\n"
     ]
    }
   ],
   "source": [
    "# Sum of demand based on the duplicate weekdate \n",
    "df4['Weekly_Demand'] = df4.groupby(['Date'])['Order_Demand'].transform('sum')\n",
    "\n",
    "# Remove duplicate columns\n",
    "df4.drop(df4.columns[1], axis=1, inplace=True)\n",
    "\n",
    "df5 = df4.drop_duplicates(subset=['Date'])\n",
    "print(df5)"
   ]
  },
  {
   "cell_type": "code",
   "execution_count": 10,
   "id": "54d0f6fb",
   "metadata": {
    "scrolled": false
   },
   "outputs": [
    {
     "name": "stderr",
     "output_type": "stream",
     "text": [
      "<ipython-input-10-5f3632fba6f6>:4: FutureWarning: Series.dt.weekofyear and Series.dt.week have been deprecated.  Please use Series.dt.isocalendar().week instead.\n",
      "  df7['Week'] = df7['Date'].dt.week\n"
     ]
    },
    {
     "data": {
      "text/html": [
       "<div>\n",
       "<style scoped>\n",
       "    .dataframe tbody tr th:only-of-type {\n",
       "        vertical-align: middle;\n",
       "    }\n",
       "\n",
       "    .dataframe tbody tr th {\n",
       "        vertical-align: top;\n",
       "    }\n",
       "\n",
       "    .dataframe thead th {\n",
       "        text-align: right;\n",
       "    }\n",
       "</style>\n",
       "<table border=\"1\" class=\"dataframe\">\n",
       "  <thead>\n",
       "    <tr style=\"text-align: right;\">\n",
       "      <th></th>\n",
       "      <th>Date</th>\n",
       "      <th>Weekly_Demand</th>\n",
       "      <th>log_Weekly_Demand</th>\n",
       "      <th>Year</th>\n",
       "      <th>Week</th>\n",
       "    </tr>\n",
       "  </thead>\n",
       "  <tbody>\n",
       "    <tr>\n",
       "      <th>0</th>\n",
       "      <td>2011-01-09</td>\n",
       "      <td>2</td>\n",
       "      <td>0.693147</td>\n",
       "      <td>2011</td>\n",
       "      <td>1</td>\n",
       "    </tr>\n",
       "    <tr>\n",
       "      <th>1</th>\n",
       "      <td>2011-06-05</td>\n",
       "      <td>108</td>\n",
       "      <td>4.682131</td>\n",
       "      <td>2011</td>\n",
       "      <td>22</td>\n",
       "    </tr>\n",
       "    <tr>\n",
       "      <th>2</th>\n",
       "      <td>2011-06-26</td>\n",
       "      <td>92000</td>\n",
       "      <td>11.429544</td>\n",
       "      <td>2011</td>\n",
       "      <td>25</td>\n",
       "    </tr>\n",
       "    <tr>\n",
       "      <th>3</th>\n",
       "      <td>2011-09-04</td>\n",
       "      <td>1250</td>\n",
       "      <td>7.130899</td>\n",
       "      <td>2011</td>\n",
       "      <td>35</td>\n",
       "    </tr>\n",
       "    <tr>\n",
       "      <th>4</th>\n",
       "      <td>2011-10-02</td>\n",
       "      <td>5478</td>\n",
       "      <td>8.608495</td>\n",
       "      <td>2011</td>\n",
       "      <td>39</td>\n",
       "    </tr>\n",
       "  </tbody>\n",
       "</table>\n",
       "</div>"
      ],
      "text/plain": [
       "        Date  Weekly_Demand  log_Weekly_Demand  Year  Week\n",
       "0 2011-01-09              2           0.693147  2011     1\n",
       "1 2011-06-05            108           4.682131  2011    22\n",
       "2 2011-06-26          92000          11.429544  2011    25\n",
       "3 2011-09-04           1250           7.130899  2011    35\n",
       "4 2011-10-02           5478           8.608495  2011    39"
      ]
     },
     "execution_count": 10,
     "metadata": {},
     "output_type": "execute_result"
    }
   ],
   "source": [
    "df7 = df5\n",
    "df7['log_Weekly_Demand'] = np.log(df7['Weekly_Demand'])\n",
    "df7['Year'] = pd. DatetimeIndex(df7['Date']). year\n",
    "df7['Week'] = df7['Date'].dt.week\n",
    "df7.head(5)"
   ]
  },
  {
   "cell_type": "code",
   "execution_count": 11,
   "id": "aa3b2208",
   "metadata": {},
   "outputs": [],
   "source": [
    "weeklydata = pd.ExcelWriter('Graph_of_Weekly_Data.xlsx')\n",
    "df7.to_excel(weeklydata)\n",
    "weeklydata.save()"
   ]
  },
  {
   "cell_type": "code",
   "execution_count": 12,
   "id": "e1a46f0a",
   "metadata": {},
   "outputs": [
    {
     "name": "stdout",
     "output_type": "stream",
     "text": [
      "   Year  Week\n",
      "0  2011     1\n",
      "1  2011    22\n",
      "2  2011    25\n",
      "3  2011    35\n",
      "4  2011    39\n",
      "\n",
      "0     0.693147\n",
      "1     4.682131\n",
      "2    11.429544\n",
      "3     7.130899\n",
      "4     8.608495\n",
      "Name: log_Weekly_Demand, dtype: float64\n"
     ]
    }
   ],
   "source": [
    "# Define X and y for Training, Validation and Testing Set\n",
    "X = df7.drop(['Date', 'Weekly_Demand', 'log_Weekly_Demand'], axis=1)\n",
    "y = df7['log_Weekly_Demand']\n",
    "# X.reshape(1,-1)\n",
    "print(X.head(5))\n",
    "print()\n",
    "print(y.head(5))"
   ]
  },
  {
   "cell_type": "code",
   "execution_count": 13,
   "id": "16d708a3",
   "metadata": {},
   "outputs": [
    {
     "name": "stdout",
     "output_type": "stream",
     "text": [
      "   Year  Week  Weekly_Demand  log_Weekly_Demand\n",
      "0  2011     1              2           0.693147\n",
      "1  2011    22            108           4.682131\n",
      "2  2011    25          92000          11.429544\n",
      "3  2011    35           1250           7.130899\n",
      "4  2011    39           5478           8.608495\n",
      "(277, 4)\n"
     ]
    }
   ],
   "source": [
    "# Save the processed data for NARNN modelling in MATLAB\n",
    "df8 = df7[['Year', 'Week', 'Weekly_Demand', 'log_Weekly_Demand']]\n",
    "print(df8.head(5))\n",
    "print(df8.shape)\n",
    "\n",
    "writer3 = pd.ExcelWriter('Processed_Data_Weekly_Demand.xlsx')\n",
    "df8.to_excel(writer3)\n",
    "writer3.save()"
   ]
  },
  {
   "cell_type": "code",
   "execution_count": 14,
   "id": "3a12e3d2",
   "metadata": {},
   "outputs": [
    {
     "data": {
      "image/png": "[encoded data removed]",
      "text/plain": [
       "<Figure size 432x288 with 1 Axes>"
      ]
     },
     "metadata": {
      "needs_background": "light"
     },
     "output_type": "display_data"
    },
    {
     "data": {
      "image/png": "[encoded data removed]",
      "text/plain": [
       "<Figure size 432x288 with 1 Axes>"
      ]
     },
     "metadata": {
      "needs_background": "light"
     },
     "output_type": "display_data"
    }
   ],
   "source": [
    "# Plot graph for weekly demand (Total)\n",
    "X_graph = df7['Date']\n",
    "y_graph = df7['Weekly_Demand']\n",
    "plt.plot(X_graph, y_graph)\n",
    "plt.title('Weekly Demand vs Date')\n",
    "plt.xlabel('Date')\n",
    "plt.ylabel('Weekly Demand')\n",
    "plt.show()\n",
    "\n",
    "X_graph1 = df7['Date']\n",
    "y_graph1 = df7['log_Weekly_Demand']\n",
    "plt.plot(X_graph1, y_graph1)\n",
    "plt.title('Weekly Demand (log) vs Date')\n",
    "plt.xlabel('Date')\n",
    "plt.ylabel('Weekly Demand (log)')\n",
    "plt.show()"
   ]
  },
  {
   "cell_type": "code",
   "execution_count": 15,
   "id": "c382b79a",
   "metadata": {
    "scrolled": true
   },
   "outputs": [
    {
     "name": "stdout",
     "output_type": "stream",
     "text": [
      "(470266, 5)\n",
      "\n",
      "                       Order_Demand\n",
      "Date       Date                    \n",
      "2011-06-24 2011-06-26         92000\n",
      "2011-09-02 2011-09-04          1250\n",
      "2011-10-31 2011-11-06             3\n",
      "2011-11-24 2011-11-27         40000\n",
      "2011-11-25 2011-11-27         17250\n",
      "(1606, 1)\n",
      "\n",
      "        Date  Order_Demand\n",
      "0 2011-06-26         92000\n",
      "1 2011-09-04          1250\n",
      "2 2011-11-06             3\n",
      "3 2011-11-27         40000\n",
      "4 2011-11-27         17250\n",
      "(1606, 2)\n",
      "           Date  Weekly_Demand\n",
      "0    2011-06-26          92000\n",
      "1    2011-09-04           1250\n",
      "2    2011-11-06              3\n",
      "3    2011-11-27          57250\n",
      "4    2011-11-27          57250\n",
      "...         ...            ...\n",
      "1601 2017-01-01        7303072\n",
      "1602 2017-01-08         206800\n",
      "1603 2017-01-08         206800\n",
      "1604 2017-01-08         206800\n",
      "1605 2017-01-15           4000\n",
      "\n",
      "[1606 rows x 2 columns]\n",
      "           Date  Weekly_Demand\n",
      "0    2011-06-26          92000\n",
      "1    2011-09-04           1250\n",
      "2    2011-11-06              3\n",
      "3    2011-11-27          57250\n",
      "5    2011-12-11          39300\n",
      "...         ...            ...\n",
      "1585 2016-12-18       17200229\n",
      "1591 2016-12-25       14684675\n",
      "1597 2017-01-01        7303072\n",
      "1602 2017-01-08         206800\n",
      "1605 2017-01-15           4000\n",
      "\n",
      "[271 rows x 2 columns]\n"
     ]
    }
   ],
   "source": [
    "# Category_019 (Most Frequent Category)\n",
    "cat019 = df2[df2.Product_Category.eq('Category_019')]\n",
    "print(cat019.shape)\n",
    "print('')\n",
    "df019 = cat019.groupby('Date').resample('W', label='right', closed='right', on='Date').sum()\n",
    "print(df019.head(5))\n",
    "print(df019.shape)\n",
    "print('')\n",
    "\n",
    "writer1 = pd.ExcelWriter('Weekly_Demand_Category019.xlsx')\n",
    "df019.to_excel(writer1)\n",
    "writer1.save()\n",
    "\n",
    "df_new = pd.read_excel('Weekly_Demand_Category019.xlsx')\n",
    "dff = pd.DataFrame(df_new)\n",
    "\n",
    "dff.drop(dff.columns[0], axis=1, inplace=True)\n",
    "dff1 = dff.rename(columns={'Date.1': 'Date'})\n",
    "print(dff1.head(5))\n",
    "print(dff1.shape)\n",
    "\n",
    "dff1['Weekly_Demand'] = dff1.groupby(['Date'])['Order_Demand'].transform('sum')\n",
    "dff1.drop(dff1.columns[1], axis=1, inplace=True)\n",
    "print(dff1)\n",
    "\n",
    "dff2 = dff1.drop_duplicates(subset=['Date'])\n",
    "print(dff2)"
   ]
  },
  {
   "cell_type": "code",
   "execution_count": 16,
   "id": "ed31f9cc",
   "metadata": {},
   "outputs": [
    {
     "data": {
      "image/png": "[encoded data removed]",
      "text/plain": [
       "<Figure size 432x288 with 1 Axes>"
      ]
     },
     "metadata": {
      "needs_background": "light"
     },
     "output_type": "display_data"
    }
   ],
   "source": [
    "# Plot for Category_019\n",
    "X1 = dff2['Date']\n",
    "y1 = dff2['Weekly_Demand']\n",
    "\n",
    "plt.plot(X1,y1)\n",
    "plt.title('Weekly Demand vs Date')\n",
    "plt.xlabel('Time (Year)')\n",
    "plt.ylabel('Weekly Demand')\n",
    "plt.show()"
   ]
  },
  {
   "cell_type": "code",
   "execution_count": 17,
   "id": "b36b8062",
   "metadata": {
    "scrolled": true
   },
   "outputs": [
    {
     "name": "stdout",
     "output_type": "stream",
     "text": [
      "(16936, 5)\n",
      "\n",
      "                       Order_Demand\n",
      "Date       Date                    \n",
      "2012-01-05 2012-01-08        702000\n",
      "2012-01-06 2012-01-08        676000\n",
      "2012-01-10 2012-01-15        783000\n",
      "2012-01-11 2012-01-15        200000\n",
      "2012-01-12 2012-01-15        284000\n",
      "(1232, 1)\n",
      "\n",
      "        Date  Order_Demand\n",
      "0 2012-01-08        702000\n",
      "1 2012-01-08        676000\n",
      "2 2012-01-15        783000\n",
      "3 2012-01-15        200000\n",
      "4 2012-01-15        284000\n",
      "(1232, 2)\n",
      "           Date  Weekly_Demand\n",
      "0    2012-01-08        1378000\n",
      "1    2012-01-08        1378000\n",
      "2    2012-01-15        1799000\n",
      "3    2012-01-15        1799000\n",
      "4    2012-01-15        1799000\n",
      "...         ...            ...\n",
      "1227 2016-12-25        1189000\n",
      "1228 2017-01-01         516000\n",
      "1229 2017-01-01         516000\n",
      "1230 2017-01-01         516000\n",
      "1231 2017-01-08         100000\n",
      "\n",
      "[1232 rows x 2 columns]\n",
      "           Date  Weekly_Demand\n",
      "0    2012-01-08        1378000\n",
      "2    2012-01-15        1799000\n",
      "6    2012-01-22        1710000\n",
      "11   2012-01-29        2171000\n",
      "16   2012-02-05        3138000\n",
      "...         ...            ...\n",
      "1214 2016-12-11        1644000\n",
      "1219 2016-12-18        1717000\n",
      "1224 2016-12-25        1189000\n",
      "1228 2017-01-01         516000\n",
      "1231 2017-01-08         100000\n",
      "\n",
      "[259 rows x 2 columns]\n"
     ]
    }
   ],
   "source": [
    "# Product_1359 (Most Frequent Product)\n",
    "prod1359 = df2[df2.Product_Code.eq('Product_1359')]\n",
    "print(prod1359.shape)\n",
    "print('')\n",
    "df1359 = prod1359.groupby('Date').resample('W', label='right', closed='right', on='Date').sum()\n",
    "print(df1359.head(5))\n",
    "print(df1359.shape)\n",
    "print('')\n",
    "\n",
    "writer2 = pd.ExcelWriter('Weekly_Demand_Product1359.xlsx')\n",
    "df1359.to_excel(writer2)\n",
    "writer2.save()\n",
    "\n",
    "df_new1 = pd.read_excel('Weekly_Demand_Product1359.xlsx')\n",
    "df1359_1 = pd.DataFrame(df_new1)\n",
    "\n",
    "df1359_1.drop(df1359_1.columns[0], axis=1, inplace=True)\n",
    "df1359_2 = df1359_1.rename(columns={'Date.1': 'Date'})\n",
    "print(df1359_2.head(5))\n",
    "print(df1359_2.shape)\n",
    "\n",
    "df1359_2['Weekly_Demand'] = df1359_2.groupby(['Date'])['Order_Demand'].transform('sum')\n",
    "df1359_2.drop(df1359_2.columns[1], axis=1, inplace=True)\n",
    "print(df1359_2)\n",
    "\n",
    "df1359_3 = df1359_2.drop_duplicates(subset=['Date'])\n",
    "print(df1359_3)"
   ]
  },
  {
   "cell_type": "code",
   "execution_count": 18,
   "id": "0b31a5e0",
   "metadata": {},
   "outputs": [
    {
     "data": {
      "image/png": "[encoded data removed]",
      "text/plain": [
       "<Figure size 432x288 with 1 Axes>"
      ]
     },
     "metadata": {
      "needs_background": "light"
     },
     "output_type": "display_data"
    }
   ],
   "source": [
    "# Plot for Product_1359\n",
    "X2 = df1359_3['Date']\n",
    "y2 = df1359_3['Weekly_Demand']\n",
    "\n",
    "plt.plot(X2,y2)\n",
    "plt.title('Weekly Demand vs Date')\n",
    "plt.xlabel('Time (Year)')\n",
    "plt.ylabel('Weekly Demand')\n",
    "plt.show()"
   ]
  },
  {
   "cell_type": "code",
   "execution_count": 19,
   "id": "1f43f628",
   "metadata": {
    "scrolled": true
   },
   "outputs": [
    {
     "data": {
      "image/png": "[encoded data removed]",
      "text/plain": [
       "<Figure size 432x288 with 1 Axes>"
      ]
     },
     "metadata": {
      "needs_background": "light"
     },
     "output_type": "display_data"
    }
   ],
   "source": [
    "plt.boxplot(df7['Weekly_Demand'], vert=False, widths=0.8)\n",
    "plt.title('Boxplot of Weekly Demand')\n",
    "plt.xlabel('Total Order Demand')\n",
    "plt.show()"
   ]
  },
  {
   "cell_type": "code",
   "execution_count": 20,
   "id": "0ddc2383",
   "metadata": {},
   "outputs": [],
   "source": [
    "# Train test split (70% train, 25% valid, 5% test)\n",
    "# x_train, x_int, y_train, y_int = train_test_split(X, y, train_size=0.702)\n",
    "# x_valid, x_test, y_valid, y_test = train_test_split(x_int, y_int, train_size=0.8333)\n",
    "\n",
    "# print('X: ', len(X))\n",
    "# print('y: ', len(y))\n",
    "\n",
    "# print('x_train: ', len(x_train))\n",
    "# print('y_train: ', len(y_train))\n",
    "\n",
    "# print('x_valid: ', len(x_valid))\n",
    "# print('y_valid: ', len(y_valid))\n",
    "\n",
    "# print('x_test: ', len(x_test))\n",
    "# print('y_test: ', len(y_test))"
   ]
  },
  {
   "cell_type": "code",
   "execution_count": 21,
   "id": "d15e4b06",
   "metadata": {
    "scrolled": true
   },
   "outputs": [
    {
     "name": "stdout",
     "output_type": "stream",
     "text": [
      "X:  277\n",
      "y:  277\n",
      "x_train:  194\n",
      "y_train:  194\n",
      "x_int:  83\n",
      "y_int:  83\n",
      "x_valid:  69\n",
      "y_valid:  69\n",
      "x_test:  14\n",
      "y_test:  14\n"
     ]
    }
   ],
   "source": [
    "x_train = X[:194]\n",
    "y_train = y[:194]\n",
    "\n",
    "x_int = X[194:]\n",
    "y_int = y[194:]\n",
    "\n",
    "x_valid = x_int[:69]\n",
    "y_valid = y_int[:69]\n",
    "\n",
    "x_test = x_int[69:]\n",
    "y_test = y_int[69:]\n",
    "\n",
    "print('X: ', len(X))\n",
    "print('y: ', len(y))\n",
    "\n",
    "print('x_train: ', len(x_train))\n",
    "print('y_train: ', len(y_train))\n",
    "\n",
    "print('x_int: ', len(x_int))\n",
    "print('y_int: ', len(y_int))\n",
    "\n",
    "print('x_valid: ', len(x_valid))\n",
    "print('y_valid: ', len(y_valid))\n",
    "\n",
    "print('x_test: ', len(x_test))\n",
    "print('y_test: ', len(y_test))"
   ]
  },
  {
   "cell_type": "code",
   "execution_count": 22,
   "id": "5db1b458",
   "metadata": {},
   "outputs": [
    {
     "name": "stdout",
     "output_type": "stream",
     "text": [
      "X1:  275\n",
      "y1:  275\n",
      "x_train1:  192\n",
      "y_train1:  192\n",
      "x_int1:  83\n",
      "y_int1:  83\n",
      "x_valid1:  69\n",
      "y_valid1:  69\n",
      "x_test1:  14\n",
      "y_test1:  14\n"
     ]
    }
   ],
   "source": [
    "# 275 instances\n",
    "X1 = X[:275]\n",
    "y1 = y[:275]\n",
    "\n",
    "x_train1 = X1[:192]\n",
    "y_train1 = y1[:192]\n",
    "\n",
    "x_int1 = X1[192:]\n",
    "y_int1 = y1[192:]\n",
    "\n",
    "x_valid1 = x_int1[:69]\n",
    "y_valid1 = y_int1[:69]\n",
    "\n",
    "x_test1 = x_int1[69:]\n",
    "y_test1 = y_int1[69:]\n",
    "\n",
    "print('X1: ', len(X1))\n",
    "print('y1: ', len(y1))\n",
    "\n",
    "print('x_train1: ', len(x_train1))\n",
    "print('y_train1: ', len(y_train1))\n",
    "\n",
    "print('x_int1: ', len(x_int1))\n",
    "print('y_int1: ', len(y_int1))\n",
    "\n",
    "print('x_valid1: ', len(x_valid1))\n",
    "print('y_valid1: ', len(y_valid1))\n",
    "\n",
    "print('x_test1: ', len(x_test1))\n",
    "print('y_test1: ', len(y_test1))"
   ]
  },
  {
   "cell_type": "code",
   "execution_count": 23,
   "id": "17dcd88a",
   "metadata": {},
   "outputs": [
    {
     "name": "stdout",
     "output_type": "stream",
     "text": [
      "X1:  262\n",
      "y1:  262\n",
      "x_train1:  183\n",
      "y_train1:  183\n",
      "x_int1:  79\n",
      "y_int1:  79\n",
      "x_valid1:  66\n",
      "y_valid1:  66\n",
      "x_test1:  13\n",
      "y_test1:  13\n"
     ]
    }
   ],
   "source": [
    "# 262 instances\n",
    "X1 = X[13:275]\n",
    "y1 = y[13:275]\n",
    "\n",
    "x_train1 = X1[:183]\n",
    "y_train1 = y1[:183]\n",
    "\n",
    "x_int1 = X1[183:]\n",
    "y_int1 = y1[183:]\n",
    "\n",
    "x_valid1 = x_int1[:66]\n",
    "y_valid1 = y_int1[:66]\n",
    "\n",
    "x_test1 = x_int1[66:]\n",
    "y_test1 = y_int1[66:]\n",
    "\n",
    "print('X1: ', len(X1))\n",
    "print('y1: ', len(y1))\n",
    "\n",
    "print('x_train1: ', len(x_train1))\n",
    "print('y_train1: ', len(y_train1))\n",
    "\n",
    "print('x_int1: ', len(x_int1))\n",
    "print('y_int1: ', len(y_int1))\n",
    "\n",
    "print('x_valid1: ', len(x_valid1))\n",
    "print('y_valid1: ', len(y_valid1))\n",
    "\n",
    "print('x_test1: ', len(x_test1))\n",
    "print('y_test1: ', len(y_test1))"
   ]
  },
  {
   "cell_type": "code",
   "execution_count": 24,
   "id": "bd9c78e1",
   "metadata": {
    "scrolled": true
   },
   "outputs": [
    {
     "data": {
      "text/plain": [
       "count    277.000000\n",
       "mean      16.320314\n",
       "std        2.077131\n",
       "min        0.693147\n",
       "25%       16.662894\n",
       "50%       16.784095\n",
       "75%       16.907767\n",
       "max       17.235373\n",
       "Name: log_Weekly_Demand, dtype: float64"
      ]
     },
     "execution_count": 24,
     "metadata": {},
     "output_type": "execute_result"
    }
   ],
   "source": [
    "y.describe()"
   ]
  },
  {
   "cell_type": "code",
   "execution_count": 25,
   "id": "1eecf2e5",
   "metadata": {},
   "outputs": [
    {
     "data": {
      "text/plain": [
       "count    262.000000\n",
       "mean      16.764473\n",
       "std        0.246965\n",
       "min       15.415659\n",
       "25%       16.695918\n",
       "50%       16.792474\n",
       "75%       16.913453\n",
       "max       17.235373\n",
       "Name: log_Weekly_Demand, dtype: float64"
      ]
     },
     "execution_count": 25,
     "metadata": {},
     "output_type": "execute_result"
    }
   ],
   "source": [
    "y1.describe()"
   ]
  },
  {
   "cell_type": "code",
   "execution_count": 26,
   "id": "dae0f8ad",
   "metadata": {},
   "outputs": [
    {
     "data": {
      "text/html": [
       "<div>\n",
       "<style scoped>\n",
       "    .dataframe tbody tr th:only-of-type {\n",
       "        vertical-align: middle;\n",
       "    }\n",
       "\n",
       "    .dataframe tbody tr th {\n",
       "        vertical-align: top;\n",
       "    }\n",
       "\n",
       "    .dataframe thead th {\n",
       "        text-align: right;\n",
       "    }\n",
       "</style>\n",
       "<table border=\"1\" class=\"dataframe\">\n",
       "  <thead>\n",
       "    <tr style=\"text-align: right;\">\n",
       "      <th></th>\n",
       "      <th>Year</th>\n",
       "      <th>Week</th>\n",
       "    </tr>\n",
       "  </thead>\n",
       "  <tbody>\n",
       "    <tr>\n",
       "      <th>36</th>\n",
       "      <td>2012</td>\n",
       "      <td>52</td>\n",
       "    </tr>\n",
       "    <tr>\n",
       "      <th>43</th>\n",
       "      <td>2012</td>\n",
       "      <td>1</td>\n",
       "    </tr>\n",
       "    <tr>\n",
       "      <th>49</th>\n",
       "      <td>2012</td>\n",
       "      <td>2</td>\n",
       "    </tr>\n",
       "    <tr>\n",
       "      <th>55</th>\n",
       "      <td>2012</td>\n",
       "      <td>3</td>\n",
       "    </tr>\n",
       "    <tr>\n",
       "      <th>62</th>\n",
       "      <td>2012</td>\n",
       "      <td>4</td>\n",
       "    </tr>\n",
       "    <tr>\n",
       "      <th>...</th>\n",
       "      <td>...</td>\n",
       "      <td>...</td>\n",
       "    </tr>\n",
       "    <tr>\n",
       "      <th>1694</th>\n",
       "      <td>2016</td>\n",
       "      <td>48</td>\n",
       "    </tr>\n",
       "    <tr>\n",
       "      <th>1700</th>\n",
       "      <td>2016</td>\n",
       "      <td>49</td>\n",
       "    </tr>\n",
       "    <tr>\n",
       "      <th>1706</th>\n",
       "      <td>2016</td>\n",
       "      <td>50</td>\n",
       "    </tr>\n",
       "    <tr>\n",
       "      <th>1712</th>\n",
       "      <td>2016</td>\n",
       "      <td>51</td>\n",
       "    </tr>\n",
       "    <tr>\n",
       "      <th>1718</th>\n",
       "      <td>2017</td>\n",
       "      <td>52</td>\n",
       "    </tr>\n",
       "  </tbody>\n",
       "</table>\n",
       "<p>262 rows × 2 columns</p>\n",
       "</div>"
      ],
      "text/plain": [
       "      Year  Week\n",
       "36    2012    52\n",
       "43    2012     1\n",
       "49    2012     2\n",
       "55    2012     3\n",
       "62    2012     4\n",
       "...    ...   ...\n",
       "1694  2016    48\n",
       "1700  2016    49\n",
       "1706  2016    50\n",
       "1712  2016    51\n",
       "1718  2017    52\n",
       "\n",
       "[262 rows x 2 columns]"
      ]
     },
     "execution_count": 26,
     "metadata": {},
     "output_type": "execute_result"
    }
   ],
   "source": [
    "X1"
   ]
  },
  {
   "cell_type": "code",
   "execution_count": 27,
   "id": "af7aeda6",
   "metadata": {},
   "outputs": [
    {
     "data": {
      "image/png": "[encoded data removed]",
      "text/plain": [
       "<Figure size 432x288 with 1 Axes>"
      ]
     },
     "metadata": {
      "needs_background": "light"
     },
     "output_type": "display_data"
    },
    {
     "data": {
      "image/png": "[encoded data removed]",
      "text/plain": [
       "<Figure size 432x288 with 1 Axes>"
      ]
     },
     "metadata": {
      "needs_background": "light"
     },
     "output_type": "display_data"
    }
   ],
   "source": [
    "plt.boxplot(y, vert=False, widths=0.8)\n",
    "plt.title('Boxplot of Logged Weekly Demand')\n",
    "plt.xlabel('Logged Weekly Demand')\n",
    "plt.show()\n",
    "\n",
    "plt.boxplot(y1, vert=False, widths=0.8)\n",
    "plt.title('Boxplot of Logged Weekly Demand')\n",
    "plt.xlabel('Logged Weekly Demand')\n",
    "plt.show()"
   ]
  },
  {
   "cell_type": "code",
   "execution_count": 28,
   "id": "0fd04091",
   "metadata": {},
   "outputs": [
    {
     "name": "stdout",
     "output_type": "stream",
     "text": [
      "Support Vector Regression Algorithms:\n",
      "\n",
      "Kernel :  linear -------------\n",
      "RMSE   :  0.1120\n",
      "MAPE   :  0.0159\n",
      "\n",
      "Kernel :  poly -------------\n",
      "RMSE   :  0.0514\n",
      "MAPE   :  0.0097\n",
      "\n",
      "Kernel :  rbf -------------\n",
      "RMSE   :  0.0514\n",
      "MAPE   :  0.0097\n",
      "\n",
      "Kernel :  sigmoid -------------\n",
      "RMSE   :  0.0514\n",
      "MAPE   :  0.0097\n",
      "\n"
     ]
    }
   ],
   "source": [
    "#SVM model valid (Ori)\n",
    "print(\"Support Vector Regression Algorithms:\")\n",
    "print()\n",
    "kernel = [\"linear\", \"poly\", \"rbf\", \"sigmoid\"]\n",
    "for i in kernel:\n",
    "    regr = SVR(kernel = i)\n",
    "    regr.fit(x_train, y_train)\n",
    "    \n",
    "    # predictions\n",
    "    predictions = regr.predict(x_valid)\n",
    "    print('Kernel : ', i, '-------------')\n",
    "    mse = mean_squared_error(y_valid, predictions)\n",
    "    rmse = math.sqrt(mse)\n",
    "    print(\"RMSE   : \", format(mse, \".4f\"))\n",
    "    mape = mean_absolute_percentage_error(y_valid, predictions)\n",
    "    print(\"MAPE   : \", format(mape, \".4f\"))\n",
    "    print(\"\")"
   ]
  },
  {
   "cell_type": "code",
   "execution_count": 29,
   "id": "4534889c",
   "metadata": {},
   "outputs": [
    {
     "name": "stdout",
     "output_type": "stream",
     "text": [
      "Support Vector Regression Algorithms:\n",
      "\n",
      "Kernel :  linear -------------\n",
      "RMSE   :  0.0910\n",
      "MAPE   :  0.0138\n",
      "\n",
      "Kernel :  poly -------------\n",
      "RMSE   :  0.0550\n",
      "MAPE   :  0.0102\n",
      "\n",
      "Kernel :  rbf -------------\n",
      "RMSE   :  0.0549\n",
      "MAPE   :  0.0102\n",
      "\n",
      "Kernel :  sigmoid -------------\n",
      "RMSE   :  0.0548\n",
      "MAPE   :  0.0101\n",
      "\n"
     ]
    }
   ],
   "source": [
    "#SVM model valid (Ignore trend variation)\n",
    "print(\"Support Vector Regression Algorithms:\")\n",
    "print()\n",
    "kernel = [\"linear\", \"poly\", \"rbf\", \"sigmoid\"]\n",
    "for i in kernel:\n",
    "    regr = SVR(kernel = i)\n",
    "    regr.fit(x_train1, y_train1)\n",
    "    \n",
    "    # predictions\n",
    "    predictions = regr.predict(x_valid1)\n",
    "    print('Kernel : ', i, '-------------')\n",
    "    mse = mean_squared_error(y_valid1, predictions)\n",
    "    rmse = math.sqrt(mse)\n",
    "    print(\"RMSE   : \", format(mse, \".4f\"))\n",
    "    mape = mean_absolute_percentage_error(y_valid1, predictions)\n",
    "    print(\"MAPE   : \", format(mape, \".4f\"))\n",
    "    print(\"\")"
   ]
  },
  {
   "cell_type": "code",
   "execution_count": 30,
   "id": "3573d743",
   "metadata": {
    "scrolled": false
   },
   "outputs": [
    {
     "name": "stdout",
     "output_type": "stream",
     "text": [
      "Support Vector Regression Algorithms:\n",
      "\n",
      "Kernel :  linear -------------\n",
      "RMSE   :  7.1382\n",
      "MAPE   :  0.1150\n",
      "\n",
      "Kernel :  poly -------------\n",
      "RMSE   :  6.4731\n",
      "MAPE   :  0.1044\n",
      "\n",
      "Kernel :  rbf -------------\n",
      "RMSE   :  6.4402\n",
      "MAPE   :  0.1039\n",
      "\n",
      "Kernel :  sigmoid -------------\n",
      "RMSE   :  6.4278\n",
      "MAPE   :  0.1038\n",
      "\n"
     ]
    }
   ],
   "source": [
    "#SVM model test (ori)\n",
    "print(\"Support Vector Regression Algorithms:\")\n",
    "print()\n",
    "kernel = [\"linear\", \"poly\", \"rbf\", \"sigmoid\"]\n",
    "for i in kernel:\n",
    "    regr = SVR(kernel = i)\n",
    "    regr.fit(x_train, y_train)\n",
    "    \n",
    "    # predictions\n",
    "    predictions = regr.predict(x_test)\n",
    "    print('Kernel : ', i, '-------------')\n",
    "    mse = mean_squared_error(y_test, predictions)\n",
    "    rmse = math.sqrt(mse)\n",
    "    print(\"RMSE   : \", format(mse, \".4f\"))\n",
    "    mape = mean_absolute_percentage_error(y_test, predictions)\n",
    "    print(\"MAPE   : \", format(mape, \".4f\"))\n",
    "    print(\"\")"
   ]
  },
  {
   "cell_type": "code",
   "execution_count": 31,
   "id": "13a10368",
   "metadata": {},
   "outputs": [
    {
     "name": "stdout",
     "output_type": "stream",
     "text": [
      "Support Vector Regression Algorithms:\n",
      "\n",
      "Kernel :  linear -------------\n",
      "RMSE   :  0.0910\n",
      "MAPE   :  0.0138\n",
      "\n",
      "Kernel :  poly -------------\n",
      "RMSE   :  0.0550\n",
      "MAPE   :  0.0102\n",
      "\n",
      "Kernel :  rbf -------------\n",
      "RMSE   :  0.0549\n",
      "MAPE   :  0.0102\n",
      "\n",
      "Kernel :  sigmoid -------------\n",
      "RMSE   :  0.0548\n",
      "MAPE   :  0.0101\n",
      "\n"
     ]
    }
   ],
   "source": [
    "#SVM model test (ignore trend variations)\n",
    "print(\"Support Vector Regression Algorithms:\")\n",
    "print()\n",
    "kernel = [\"linear\", \"poly\", \"rbf\", \"sigmoid\"]\n",
    "for i in kernel:\n",
    "    regr = SVR(kernel = i)\n",
    "    regr.fit(x_train1, y_train1)\n",
    "    \n",
    "    # predictions\n",
    "    predictions = regr.predict(x_valid1)\n",
    "    print('Kernel : ', i, '-------------')\n",
    "    mse = mean_squared_error(y_valid1, predictions)\n",
    "    rmse = math.sqrt(mse)\n",
    "    print(\"RMSE   : \", format(mse, \".4f\"))\n",
    "    mape = mean_absolute_percentage_error(y_valid1, predictions)\n",
    "    print(\"MAPE   : \", format(mape, \".4f\"))\n",
    "    print(\"\")"
   ]
  },
  {
   "cell_type": "code",
   "execution_count": 32,
   "id": "8c97b608",
   "metadata": {},
   "outputs": [
    {
     "name": "stdout",
     "output_type": "stream",
     "text": [
      "Artificial Neural Network Algorithms:\n",
      "\n",
      "Activation :  identity -------------\n",
      "RMSE       :  6.4558\n",
      "MAPE       :  0.1038\n",
      "\n",
      "Activation :  logistic -------------\n",
      "RMSE       :  6.4558\n",
      "MAPE       :  0.1038\n",
      "\n",
      "Activation :  tanh -------------\n",
      "RMSE       :  6.4558\n",
      "MAPE       :  0.1038\n",
      "\n",
      "Activation :  relu -------------\n",
      "RMSE       :  6.4558\n",
      "MAPE       :  0.1038\n",
      "\n"
     ]
    }
   ],
   "source": [
    "# Artificial Neural Network\n",
    "print(\"Artificial Neural Network Algorithms:\")\n",
    "print()\n",
    "\n",
    "activation = [\"identity\", \"logistic\", \"tanh\", \"relu\"]\n",
    "for i in activation:\n",
    "    ann = MLPRegressor(hidden_layer_sizes = (5,2), activation = i, solver = 'adam', learning_rate_init=0.001, max_iter = 100000)\n",
    "    ann.fit(x_train, y_train)\n",
    "    \n",
    "    # predictions\n",
    "    predictions = regr.predict(x_test)\n",
    "    print('Activation : ', i, '-------------')\n",
    "    mse = mean_squared_error(y_test, predictions)\n",
    "    rmse = math.sqrt(mse)\n",
    "    print(\"RMSE       : \", format(mse, \".4f\"))\n",
    "    mape = mean_absolute_percentage_error(y_test, predictions)\n",
    "    print(\"MAPE       : \", format(mape, \".4f\"))\n",
    "    print(\"\")\n"
   ]
  },
  {
   "cell_type": "code",
   "execution_count": 33,
   "id": "ade125fc",
   "metadata": {},
   "outputs": [
    {
     "name": "stdout",
     "output_type": "stream",
     "text": [
      "Gradient Boosting Regressor\n",
      "RMSE :  0.2263\n",
      "MAPE :  0.0097\n"
     ]
    }
   ],
   "source": [
    "# Gradient Boosting Regressor valid (ori)\n",
    "\n",
    "params = {'learning_rate': 0.001,\n",
    "          'loss': 'least_absolute_deviation'}\n",
    "\n",
    "gbr = HistGradientBoostingRegressor(**params)\n",
    "gbr.fit(x_train, y_train)\n",
    "\n",
    "gbr_result = gbr.predict(x_valid)\n",
    "\n",
    "gbr_mse = mean_squared_error(y_valid, gbr_result)\n",
    "gbr_rmse = math.sqrt(gbr_mse)\n",
    "print(\"Gradient Boosting Regressor\")\n",
    "print(\"RMSE : \", format(gbr_rmse, \".4f\"))\n",
    "gbr_mape = mean_absolute_percentage_error(y_valid, gbr_result)\n",
    "print(\"MAPE : \", format(gbr_mape, \".4f\"))\n"
   ]
  },
  {
   "cell_type": "code",
   "execution_count": 34,
   "id": "1cb06652",
   "metadata": {},
   "outputs": [
    {
     "name": "stdout",
     "output_type": "stream",
     "text": [
      "Gradient Boosting Regressor\n",
      "RMSE :  0.2288\n",
      "MAPE :  0.0099\n"
     ]
    }
   ],
   "source": [
    "# Gradient Boosting Regressor valid (ignore trend variations)\n",
    "\n",
    "params = {'learning_rate': 0.001,\n",
    "          'loss': 'poisson'}\n",
    "\n",
    "gbr = HistGradientBoostingRegressor(**params)\n",
    "gbr.fit(x_train1, y_train1)\n",
    "\n",
    "gbr_result = gbr.predict(x_valid1)\n",
    "\n",
    "gbr_mse = mean_squared_error(y_valid1, gbr_result)\n",
    "gbr_rmse = math.sqrt(gbr_mse)\n",
    "print(\"Gradient Boosting Regressor\")\n",
    "print(\"RMSE : \", format(gbr_rmse, \".4f\"))\n",
    "gbr_mape = mean_absolute_percentage_error(y_valid1, gbr_result)\n",
    "print(\"MAPE : \", format(gbr_mape, \".4f\"))\n"
   ]
  },
  {
   "cell_type": "code",
   "execution_count": 35,
   "id": "545683eb",
   "metadata": {},
   "outputs": [
    {
     "name": "stdout",
     "output_type": "stream",
     "text": [
      "Gradient Boosting Regressor\n",
      "RMSE :  2.5357\n",
      "MAPE :  0.1038\n"
     ]
    }
   ],
   "source": [
    "# Gradient Boosting Regressor test (ori)\n",
    "\n",
    "params = {'learning_rate': 0.001,\n",
    "          'loss': 'least_absolute_deviation'}\n",
    "\n",
    "gbr = HistGradientBoostingRegressor(**params)\n",
    "gbr.fit(x_train, y_train)\n",
    "\n",
    "gbr_result = gbr.predict(x_test)\n",
    "\n",
    "gbr_mse = mean_squared_error(y_test, gbr_result)\n",
    "gbr_rmse = math.sqrt(gbr_mse)\n",
    "print(\"Gradient Boosting Regressor\")\n",
    "print(\"RMSE : \", format(gbr_rmse, \".4f\"))\n",
    "gbr_mape = mean_absolute_percentage_error(y_test, gbr_result)\n",
    "print(\"MAPE : \", format(gbr_mape, \".4f\"))\n"
   ]
  },
  {
   "cell_type": "code",
   "execution_count": 36,
   "id": "167b85b1",
   "metadata": {},
   "outputs": [
    {
     "name": "stdout",
     "output_type": "stream",
     "text": [
      "Gradient Boosting Regressor\n",
      "RMSE :  0.2348\n",
      "MAPE :  0.0088\n"
     ]
    }
   ],
   "source": [
    "# Gradient Boosting Regressor test (ignore trend variations)\n",
    "\n",
    "params = {'learning_rate': 0.001,\n",
    "          'loss': 'poisson'}\n",
    "\n",
    "gbr = HistGradientBoostingRegressor(**params)\n",
    "gbr.fit(x_train1, y_train1)\n",
    "\n",
    "gbr_result = gbr.predict(x_test1)\n",
    "\n",
    "gbr_mse = mean_squared_error(y_test1, gbr_result)\n",
    "gbr_rmse = math.sqrt(gbr_mse)\n",
    "print(\"Gradient Boosting Regressor\")\n",
    "print(\"RMSE : \", format(gbr_rmse, \".4f\"))\n",
    "gbr_mape = mean_absolute_percentage_error(y_test1, gbr_result)\n",
    "print(\"MAPE : \", format(gbr_mape, \".4f\"))"
   ]
  },
  {
   "cell_type": "code",
   "execution_count": 37,
   "id": "b80d4758",
   "metadata": {},
   "outputs": [
    {
     "name": "stdout",
     "output_type": "stream",
     "text": [
      "Gradient Boosting Regressor\n",
      "RMSE :  0.2348\n",
      "MAPE :  0.0088\n"
     ]
    }
   ],
   "source": [
    "# Gradient Boosting Regressor test (ignore trend variations)\n",
    "\n",
    "params = {'learning_rate': 0.001,\n",
    "          'loss': 'poisson'}\n",
    "\n",
    "gbr = HistGradientBoostingRegressor(**params)\n",
    "gbr.fit(x_train1, y_train1)\n",
    "\n",
    "gbr_result = gbr.predict(x_test1)\n",
    "\n",
    "gbr_mse = mean_squared_error(y_test1, gbr_result)\n",
    "gbr_rmse = math.sqrt(gbr_mse)\n",
    "print(\"Gradient Boosting Regressor\")\n",
    "print(\"RMSE : \", format(gbr_rmse, \".4f\"))\n",
    "gbr_mape = mean_absolute_percentage_error(y_test1, gbr_result)\n",
    "print(\"MAPE : \", format(gbr_mape, \".4f\"))\n"
   ]
  },
  {
   "cell_type": "code",
   "execution_count": 38,
   "id": "015bf3d6",
   "metadata": {},
   "outputs": [
    {
     "name": "stdout",
     "output_type": "stream",
     "text": [
      "AdaBoost Regressor\n",
      "RMSE :  0.2970\n",
      "MAPE :  0.0119\n"
     ]
    }
   ],
   "source": [
    "# AdaBoost Regressor test (valid)\n",
    "\n",
    "ada = AdaBoostRegressor(learning_rate=0.001,loss='exponential', random_state=0)\n",
    "ada.fit(x_train1,y_train1)\n",
    "\n",
    "ada_result = ada.predict(x_valid1)\n",
    "\n",
    "ada_mse = mean_squared_error(y_valid1,ada_result)\n",
    "ada_rmse = math.sqrt(ada_mse)\n",
    "print(\"AdaBoost Regressor\")\n",
    "print(\"RMSE : \", format(ada_rmse, \".4f\"))\n",
    "ada_mape = mean_absolute_percentage_error(y_valid1,ada_result)\n",
    "print(\"MAPE : \", format(ada_mape, \".4f\"))"
   ]
  },
  {
   "cell_type": "code",
   "execution_count": 39,
   "id": "d1c0c66f",
   "metadata": {},
   "outputs": [
    {
     "name": "stdout",
     "output_type": "stream",
     "text": [
      "AdaBoost Regressor\n",
      "RMSE :  0.2193\n",
      "MAPE :  0.0080\n"
     ]
    }
   ],
   "source": [
    "# AdaBoost Regressor test (test)\n",
    "\n",
    "ada = AdaBoostRegressor(learning_rate=0.1,loss='linear', random_state=0)\n",
    "ada.fit(x_train1,y_train1)\n",
    "\n",
    "ada_result = ada.predict(x_test1)\n",
    "\n",
    "ada_mse = mean_squared_error(y_test1,ada_result)\n",
    "ada_rmse = math.sqrt(ada_mse)\n",
    "print(\"AdaBoost Regressor\")\n",
    "print(\"RMSE : \", format(ada_rmse, \".4f\"))\n",
    "ada_mape = mean_absolute_percentage_error(y_test1,ada_result)\n",
    "print(\"MAPE : \", format(ada_mape, \".4f\"))"
   ]
  },
  {
   "cell_type": "code",
   "execution_count": 122,
   "id": "05f41d1e",
   "metadata": {},
   "outputs": [
    {
     "data": {
      "text/plain": [
       "1642    16.679880\n",
       "1649    16.862183\n",
       "1656    16.866248\n",
       "1661    16.863464\n",
       "1668    16.695802\n",
       "1675    16.907767\n",
       "1681    16.813234\n",
       "1688    16.784095\n",
       "1694    17.093159\n",
       "1700    16.874057\n",
       "1706    16.807187\n",
       "1712    16.676542\n",
       "1718    16.042977\n",
       "Name: log_Weekly_Demand, dtype: float64"
      ]
     },
     "execution_count": 122,
     "metadata": {},
     "output_type": "execute_result"
    }
   ],
   "source": [
    "y_test1"
   ]
  },
  {
   "cell_type": "code",
   "execution_count": 123,
   "id": "4fd06064",
   "metadata": {},
   "outputs": [
    {
     "data": {
      "text/plain": [
       "array([16.8461792 , 16.8461792 , 16.8461792 , 16.8461792 , 16.8461792 ,\n",
       "       16.8461792 , 16.8461792 , 16.8461792 , 16.8461792 , 16.8461792 ,\n",
       "       16.8461792 , 16.8461792 , 16.76348164])"
      ]
     },
     "execution_count": 123,
     "metadata": {},
     "output_type": "execute_result"
    }
   ],
   "source": [
    "ada_result"
   ]
  },
  {
   "cell_type": "code",
   "execution_count": 117,
   "id": "eb28e985",
   "metadata": {
    "scrolled": false
   },
   "outputs": [
    {
     "name": "stdout",
     "output_type": "stream",
     "text": [
      "Epoch 1/100\n",
      "180/180 - 0s - loss: 189.7300\n",
      "Epoch 2/100\n",
      "180/180 - 0s - loss: 70.0582\n",
      "Epoch 3/100\n",
      "180/180 - 0s - loss: 19.5920\n",
      "Epoch 4/100\n",
      "180/180 - 0s - loss: 6.0852\n",
      "Epoch 5/100\n",
      "180/180 - 0s - loss: 1.6104\n",
      "Epoch 6/100\n",
      "180/180 - 0s - loss: 0.3774\n",
      "Epoch 7/100\n",
      "180/180 - 0s - loss: 0.1104\n",
      "Epoch 8/100\n",
      "180/180 - 0s - loss: 0.0660\n",
      "Epoch 9/100\n",
      "180/180 - 0s - loss: 0.0605\n",
      "Epoch 10/100\n",
      "180/180 - 0s - loss: 0.0600\n",
      "Epoch 11/100\n",
      "180/180 - 0s - loss: 0.0598\n",
      "Epoch 12/100\n",
      "180/180 - 0s - loss: 0.0599\n",
      "Epoch 13/100\n",
      "180/180 - 0s - loss: 0.0599\n",
      "Epoch 14/100\n",
      "180/180 - 0s - loss: 0.0600\n",
      "Epoch 15/100\n",
      "180/180 - 0s - loss: 0.0600\n",
      "Epoch 16/100\n",
      "180/180 - 0s - loss: 0.0603\n",
      "Epoch 17/100\n",
      "180/180 - 0s - loss: 0.0599\n",
      "Epoch 18/100\n",
      "180/180 - 0s - loss: 0.0605\n",
      "Epoch 19/100\n",
      "180/180 - 0s - loss: 0.0602\n",
      "Epoch 20/100\n",
      "180/180 - 0s - loss: 0.0603\n",
      "Epoch 21/100\n",
      "180/180 - 0s - loss: 0.0602\n",
      "Epoch 22/100\n",
      "180/180 - 0s - loss: 0.0606\n",
      "Epoch 23/100\n",
      "180/180 - 0s - loss: 0.0603\n",
      "Epoch 24/100\n",
      "180/180 - 0s - loss: 0.0603\n",
      "Epoch 25/100\n",
      "180/180 - 0s - loss: 0.0602\n",
      "Epoch 26/100\n",
      "180/180 - 0s - loss: 0.0604\n",
      "Epoch 27/100\n",
      "180/180 - 0s - loss: 0.0609\n",
      "Epoch 28/100\n",
      "180/180 - 0s - loss: 0.0611\n",
      "Epoch 29/100\n",
      "180/180 - 0s - loss: 0.0611\n",
      "Epoch 30/100\n",
      "180/180 - 0s - loss: 0.0609\n",
      "Epoch 31/100\n",
      "180/180 - 0s - loss: 0.0613\n",
      "Epoch 32/100\n",
      "180/180 - 0s - loss: 0.0608\n",
      "Epoch 33/100\n",
      "180/180 - 0s - loss: 0.0610\n",
      "Epoch 34/100\n",
      "180/180 - 0s - loss: 0.0614\n",
      "Epoch 35/100\n",
      "180/180 - 0s - loss: 0.0607\n",
      "Epoch 36/100\n",
      "180/180 - 0s - loss: 0.0614\n",
      "Epoch 37/100\n",
      "180/180 - 0s - loss: 0.0606\n",
      "Epoch 38/100\n",
      "180/180 - 0s - loss: 0.0613\n",
      "Epoch 39/100\n",
      "180/180 - 0s - loss: 0.0629\n",
      "Epoch 40/100\n",
      "180/180 - 0s - loss: 0.0624\n",
      "Epoch 41/100\n",
      "180/180 - 0s - loss: 0.0607\n",
      "Epoch 42/100\n",
      "180/180 - 0s - loss: 0.0624\n",
      "Epoch 43/100\n",
      "180/180 - 0s - loss: 0.0621\n",
      "Epoch 44/100\n",
      "180/180 - 0s - loss: 0.0608\n",
      "Epoch 45/100\n",
      "180/180 - 0s - loss: 0.0621\n",
      "Epoch 46/100\n",
      "180/180 - 0s - loss: 0.0620\n",
      "Epoch 47/100\n",
      "180/180 - 0s - loss: 0.0615\n",
      "Epoch 48/100\n",
      "180/180 - 0s - loss: 0.0605\n",
      "Epoch 49/100\n",
      "180/180 - 0s - loss: 0.0615\n",
      "Epoch 50/100\n",
      "180/180 - 0s - loss: 0.0629\n",
      "Epoch 51/100\n",
      "180/180 - 0s - loss: 0.0625\n",
      "Epoch 52/100\n",
      "180/180 - 0s - loss: 0.0629\n",
      "Epoch 53/100\n",
      "180/180 - 0s - loss: 0.0620\n",
      "Epoch 54/100\n",
      "180/180 - 0s - loss: 0.0612\n",
      "Epoch 55/100\n",
      "180/180 - 0s - loss: 0.0606\n",
      "Epoch 56/100\n",
      "180/180 - 0s - loss: 0.0637\n",
      "Epoch 57/100\n",
      "180/180 - 0s - loss: 0.0615\n",
      "Epoch 58/100\n",
      "180/180 - 0s - loss: 0.0613\n",
      "Epoch 59/100\n",
      "180/180 - 0s - loss: 0.0617\n",
      "Epoch 60/100\n",
      "180/180 - 0s - loss: 0.0624\n",
      "Epoch 61/100\n",
      "180/180 - 0s - loss: 0.0606\n",
      "Epoch 62/100\n",
      "180/180 - 0s - loss: 0.0639\n",
      "Epoch 63/100\n",
      "180/180 - 0s - loss: 0.0637\n",
      "Epoch 64/100\n",
      "180/180 - 0s - loss: 0.0617\n",
      "Epoch 65/100\n",
      "180/180 - 0s - loss: 0.0627\n",
      "Epoch 66/100\n",
      "180/180 - 0s - loss: 0.0622\n",
      "Epoch 67/100\n",
      "180/180 - 0s - loss: 0.0622\n",
      "Epoch 68/100\n",
      "180/180 - 0s - loss: 0.0608\n",
      "Epoch 69/100\n",
      "180/180 - 0s - loss: 0.0623\n",
      "Epoch 70/100\n",
      "180/180 - 0s - loss: 0.0616\n",
      "Epoch 71/100\n",
      "180/180 - 0s - loss: 0.0623\n",
      "Epoch 72/100\n",
      "180/180 - 0s - loss: 0.0628\n",
      "Epoch 73/100\n",
      "180/180 - 0s - loss: 0.0621\n",
      "Epoch 74/100\n",
      "180/180 - 0s - loss: 0.0604\n",
      "Epoch 75/100\n",
      "180/180 - 0s - loss: 0.0630\n",
      "Epoch 76/100\n",
      "180/180 - 0s - loss: 0.0619\n",
      "Epoch 77/100\n",
      "180/180 - 0s - loss: 0.0621\n",
      "Epoch 78/100\n",
      "180/180 - 0s - loss: 0.0624\n",
      "Epoch 79/100\n",
      "180/180 - 0s - loss: 0.0647\n",
      "Epoch 80/100\n",
      "180/180 - 0s - loss: 0.0626\n",
      "Epoch 81/100\n",
      "180/180 - 0s - loss: 0.0618\n",
      "Epoch 82/100\n",
      "180/180 - 0s - loss: 0.0638\n",
      "Epoch 83/100\n",
      "180/180 - 0s - loss: 0.0616\n",
      "Epoch 84/100\n",
      "180/180 - 0s - loss: 0.0618\n",
      "Epoch 85/100\n",
      "180/180 - 0s - loss: 0.0626\n",
      "Epoch 86/100\n",
      "180/180 - 0s - loss: 0.0605\n",
      "Epoch 87/100\n",
      "180/180 - 0s - loss: 0.0632\n",
      "Epoch 88/100\n",
      "180/180 - 0s - loss: 0.0621\n",
      "Epoch 89/100\n",
      "180/180 - 0s - loss: 0.0618\n",
      "Epoch 90/100\n",
      "180/180 - 0s - loss: 0.0616\n",
      "Epoch 91/100\n",
      "180/180 - 0s - loss: 0.0629\n",
      "Epoch 92/100\n",
      "180/180 - 0s - loss: 0.0611\n",
      "Epoch 93/100\n",
      "180/180 - 0s - loss: 0.0618\n",
      "Epoch 94/100\n",
      "180/180 - 0s - loss: 0.0616\n",
      "Epoch 95/100\n",
      "180/180 - 0s - loss: 0.0624\n",
      "Epoch 96/100\n",
      "180/180 - 0s - loss: 0.0620\n",
      "Epoch 97/100\n",
      "180/180 - 0s - loss: 0.0629\n",
      "Epoch 98/100\n",
      "180/180 - 0s - loss: 0.0620\n",
      "Epoch 99/100\n",
      "180/180 - 0s - loss: 0.0618\n",
      "Epoch 100/100\n",
      "180/180 - 0s - loss: 0.0630\n",
      "Train Score: 0.2473 RMSE\n",
      "Valid Score: 0.2244 RMSE\n",
      "Test Score: 0.1534 RMSE\n"
     ]
    }
   ],
   "source": [
    "import numpy as np\n",
    "import matplotlib.pyplot as plt\n",
    "import pandas as pd\n",
    "import math\n",
    "import keras\n",
    "import tensorflow\n",
    "from keras.models import Sequential\n",
    "from keras.layers import Dense\n",
    "from keras.layers import LSTM\n",
    "from sklearn.preprocessing import MinMaxScaler\n",
    "from sklearn.metrics import mean_squared_error\n",
    "\n",
    "\n",
    "from numpy.random import seed\n",
    "seed(1)\n",
    "\n",
    "# convert an array of values into a dataset matrix\n",
    "def create_dataset(dataset, look_back=1):\n",
    "\tdataX, dataY = [], []\n",
    "\tfor i in range(len(dataset)-look_back-1):\n",
    "\t\ta = dataset.iloc[i:(i+look_back), 0]\n",
    "\t\tdataX.append(a)\n",
    "\t\tdataY.append(dataset.iloc[i + look_back, 0])\n",
    "\treturn np.array(dataX), np.array(dataY)\n",
    "\n",
    "y_train2 = pd.DataFrame(y_train1)\n",
    "y_valid2 = pd.DataFrame(y_valid1)\n",
    "y_test2 = pd.DataFrame(y_test1)\n",
    "\n",
    "look_back = 2\n",
    "trainX, trainY = create_dataset(y_train2, look_back)\n",
    "validX, validY = create_dataset(y_valid2, look_back)\n",
    "testX, testY = create_dataset(y_test2, look_back)\n",
    "\n",
    "# reshape input to be [samples, time steps, features]\n",
    "trainX = np.reshape(trainX, (trainX.shape[0], 1, trainX.shape[1]))\n",
    "validX = np.reshape(validX, (validX.shape[0], 1, validX.shape[1]))\n",
    "testX = np.reshape(testX, (testX.shape[0], 1, testX.shape[1]))\n",
    "\n",
    "# # create and fit the LSTM network\n",
    "# model = Sequential()\n",
    "# model.add(LSTM(50, activation='relu', input_shape=(1, look_back)))\n",
    "# model.add(Dense(1))\n",
    "# model.compile(optimizer='adam', loss='mse')\n",
    "\n",
    "# create and fit the LSTM network\n",
    "model = Sequential()\n",
    "model.add(LSTM(25, input_shape=(1, look_back)))\n",
    "model.add(Dense(1))\n",
    "model.compile(loss='mean_squared_error', optimizer='adam')\n",
    "model.fit(trainX, trainY, epochs=100, batch_size=1, verbose=2)\n",
    "\n",
    "# make predictions\n",
    "trainPredict = model.predict(trainX)\n",
    "validPredict = model.predict(validX)\n",
    "testPredict = model.predict(testX)\n",
    "# # invert predictions\n",
    "# trainPredict = scaler.inverse_transform(trainPredict)\n",
    "# trainY = scaler.inverse_transform([trainY])\n",
    "# testPredict = scaler.inverse_transform(testPredict)\n",
    "# testY = scaler.inverse_transform([testY])\n",
    "# calculate root mean squared error\n",
    "# trainScore = math.sqrt(mean_squared_error(trainY[0], trainPredict[:,0]))\n",
    "# print('Train Score: %.4f RMSE' % (trainScore))\n",
    "# validScore = math.sqrt(mean_squared_error(validY[0], validPredict[:,0]))\n",
    "# print('Valid Score: %.4f RMSE' % (validScore))\n",
    "# testScore = math.sqrt(mean_squared_error(testY[0], testPredict[:,0]))\n",
    "# print('Test Score: %.4f RMSE' % (testScore))\n",
    "\n",
    "# # make predictions\n",
    "# trainPredict = model.predict(trainX)\n",
    "# testPredict = model.predict(testX)\n",
    "# # invert predictions\n",
    "# trainPredict = scaler.inverse_transform(trainPredict)\n",
    "# trainY = scaler.inverse_transform([trainY])\n",
    "# testPredict = scaler.inverse_transform(testPredict)\n",
    "# testY = scaler.inverse_transform([testY])\n",
    "# calculate root mean squared error\n",
    "trainScore = math.sqrt(mean_squared_error(trainY, trainPredict[:,0]))\n",
    "print('Train Score: %.4f RMSE' % (trainScore))\n",
    "validScore = math.sqrt(mean_squared_error(validY, validPredict[:,0]))\n",
    "print('Valid Score: %.4f RMSE' % (validScore))\n",
    "testScore = math.sqrt(mean_squared_error(testY, testPredict[:,0]))\n",
    "print('Test Score: %.4f RMSE' % (testScore))\n",
    "\n"
   ]
  },
  {
   "cell_type": "code",
   "execution_count": 118,
   "id": "f5e32ee7",
   "metadata": {},
   "outputs": [
    {
     "data": {
      "text/plain": [
       "0.9895322"
      ]
     },
     "execution_count": 118,
     "metadata": {},
     "output_type": "execute_result"
    }
   ],
   "source": [
    "import tensorflow\n",
    "\n",
    "m = tensorflow.keras.metrics.MeanAbsolutePercentageError()\n",
    "m.update_state(validY, validPredict[:,0])\n",
    "m.result().numpy()"
   ]
  },
  {
   "cell_type": "code",
   "execution_count": 119,
   "id": "b0260974",
   "metadata": {},
   "outputs": [
    {
     "data": {
      "text/plain": [
       "0.73448086"
      ]
     },
     "execution_count": 119,
     "metadata": {},
     "output_type": "execute_result"
    }
   ],
   "source": [
    "import tensorflow\n",
    "\n",
    "m = tensorflow.keras.metrics.MeanAbsolutePercentageError()\n",
    "m.update_state(testY, testPredict[:,0])\n",
    "m.result().numpy()"
   ]
  },
  {
   "cell_type": "code",
   "execution_count": 120,
   "id": "69a4757c",
   "metadata": {},
   "outputs": [
    {
     "name": "stdout",
     "output_type": "stream",
     "text": [
      "[16.8662475  16.86346443 16.69580196 16.90776741 16.81323435 16.78409509\n",
      " 17.09315871 16.87405673 16.80718707 16.67654218]\n",
      "[[16.732159]\n",
      " [16.73249 ]\n",
      " [16.732492]\n",
      " [16.732138]\n",
      " [16.73228 ]\n",
      " [16.732462]\n",
      " [16.732235]\n",
      " [16.732807]\n",
      " [16.732897]\n",
      " [16.732391]]\n"
     ]
    }
   ],
   "source": [
    "print(testY)\n",
    "print(testPredict)"
   ]
  }
 ],
 "metadata": {
  "kernelspec": {
   "display_name": "Python 3",
   "language": "python",
   "name": "python3"
  },
  "language_info": {
   "codemirror_mode": {
    "name": "ipython",
    "version": 3
   },
   "file_extension": ".py",
   "mimetype": "text/x-python",
   "name": "python",
   "nbconvert_exporter": "python",
   "pygments_lexer": "ipython3",
   "version": "3.8.8"
  }
 },
 "nbformat": 4,
 "nbformat_minor": 5
}
